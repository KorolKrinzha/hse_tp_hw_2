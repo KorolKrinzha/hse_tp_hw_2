{
 "cells": [
  {
   "cell_type": "code",
   "execution_count": 1,
   "id": "82fa4fe2",
   "metadata": {},
   "outputs": [],
   "source": [
    "import timeit\n",
    "import numpy as np\n",
    "from matplotlib import pyplot as plt\n",
    "from NumbersOperator import NumbersOperator"
   ]
  },
  {
   "cell_type": "code",
   "execution_count": 42,
   "id": "0fb64984",
   "metadata": {},
   "outputs": [
    {
     "data": {
      "text/plain": [
       "['./tests_txt/timetest_1.txt',\n",
       " './tests_txt/timetest_2.txt',\n",
       " './tests_txt/timetest_3.txt',\n",
       " './tests_txt/timetest_4.txt',\n",
       " './tests_txt/timetest_5.txt',\n",
       " './tests_txt/timetest_6.txt',\n",
       " './tests_txt/timetest_7.txt']"
      ]
     },
     "execution_count": 42,
     "metadata": {},
     "output_type": "execute_result"
    }
   ],
   "source": [
    "# Amount of files that store numbers for the tests\n",
    "number_of_files = 7\n",
    "# because of template names, we store all the names in a list via simple script \n",
    "testfiles = ['./tests_txt/timetest_'+str(i)+'.txt' for i in range (1,number_of_files+1)]\n",
    "testfiles #Output file names"
   ]
  },
  {
   "cell_type": "code",
   "execution_count": 43,
   "id": "13b8d455",
   "metadata": {},
   "outputs": [
    {
     "data": {
      "text/plain": [
       "[10, 50, 100, 1000, 10000, 100000, 1000000]"
      ]
     },
     "execution_count": 43,
     "metadata": {},
     "output_type": "execute_result"
    }
   ],
   "source": [
    "# List with NumberOperator objects for each file\n",
    "numbers_list = [ NumbersOperator(filename) for filename in testfiles] \n",
    "# Amount of numbers in each file (Y-AXIS)\n",
    "numbers_list_size = [operator.getNumberListSize() for operator in numbers_list]\n",
    "numbers_list_size # Output sample size"
   ]
  },
  {
   "cell_type": "code",
   "execution_count": 44,
   "id": "a0e11276",
   "metadata": {},
   "outputs": [],
   "source": [
    "# Thats the way to use timeit module\n",
    "# It is a setup for a function which we will then measure\n",
    "setup = \"\"\" \n",
    "from NumbersOperator import NumbersOperator\n",
    "number_of_files = 7\n",
    "testfiles = ['./tests_txt/timetest_'+str(i)+'.txt' for i in range (1,number_of_files+1)]\n",
    "numbers_list = [ NumbersOperator(filename) for filename in testfiles]\n",
    "\"\"\"\n"
   ]
  },
  {
   "cell_type": "code",
   "execution_count": null,
   "id": "fe3a6e57",
   "metadata": {},
   "outputs": [],
   "source": [
    "# We will measure time for min function\n",
    "min_time_list = []\n",
    "for i in range(len(testfiles)):\n",
    "    # Measure time for each time we use min() method     \n",
    "    min_timetest = f\"numbers_list[{i}].min()\"\n",
    "    min_time = timeit.timeit(stmt=min_timetest, setup=setup, number=10000)\n",
    "    # Write down the time to the list (X-AXIS)      \n",
    "    min_time_list.append(min_time)\n",
    "min_time_list"
   ]
  },
  {
   "cell_type": "code",
   "execution_count": null,
   "id": "283567ff",
   "metadata": {},
   "outputs": [],
   "source": [
    "# Matplotlib is a popular module for displaying data\n",
    "# In this case we will use plot type of diagram\n",
    "plt.plot(min_time_list, numbers_list_size, color='r', label='Функция минимума')\n",
    "# styling a bit\n",
    "plt.xlabel('Количество чисел в файле') \n",
    "plt.ylabel('Время выполнения программы, сек')\n",
    "plt.grid()\n",
    "# show the plot\n",
    "plt.show()"
   ]
  },
  {
   "cell_type": "code",
   "execution_count": null,
   "id": "9c0f1b67",
   "metadata": {},
   "outputs": [],
   "source": []
  }
 ],
 "metadata": {
  "kernelspec": {
   "display_name": "Python 3",
   "language": "python",
   "name": "python3"
  },
  "language_info": {
   "codemirror_mode": {
    "name": "ipython",
    "version": 3
   },
   "file_extension": ".py",
   "mimetype": "text/x-python",
   "name": "python",
   "nbconvert_exporter": "python",
   "pygments_lexer": "ipython3",
   "version": "3.7.4"
  }
 },
 "nbformat": 4,
 "nbformat_minor": 5
}
